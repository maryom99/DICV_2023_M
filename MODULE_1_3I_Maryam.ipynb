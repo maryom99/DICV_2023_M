{
  "nbformat": 4,
  "nbformat_minor": 0,
  "metadata": {
    "colab": {
      "provenance": [],
      "toc_visible": true,
      "authorship_tag": "ABX9TyPSQMwM4kqwZBghEirUh2N8",
      "include_colab_link": true
    },
    "kernelspec": {
      "name": "python3",
      "display_name": "Python 3"
    },
    "language_info": {
      "name": "python"
    }
  },
  "cells": [
    {
      "cell_type": "markdown",
      "metadata": {
        "id": "view-in-github",
        "colab_type": "text"
      },
      "source": [
        "<a href=\"https://colab.research.google.com/github/maryom99/DICV_2023_M/blob/main/MODULE_1_3I_Maryam.ipynb\" target=\"_parent\"><img src=\"https://colab.research.google.com/assets/colab-badge.svg\" alt=\"Open In Colab\"/></a>"
      ]
    },
    {
      "cell_type": "markdown",
      "source": [
        "# Week 1\n",
        "## Name : Maryam Mohammed Ali Albaiti\n",
        "## NIM : 2041720205\n",
        "## No : 06\n"
      ],
      "metadata": {
        "id": "a9rOOJlmvsmg"
      }
    },
    {
      "cell_type": "code",
      "execution_count": 1,
      "metadata": {
        "id": "7Dmj376SkN8U"
      },
      "outputs": [],
      "source": [
        "# Libraries \n",
        "import numpy as np\n",
        "import pandas as pd\n",
        "import cv2 as cv\n",
        "from google.colab.patches import cv2_imshow # for image display\n",
        "from skimage import io\n",
        "from skimage import transform\n",
        "from PIL import Image \n",
        "import matplotlib.pylab as plt"
      ]
    },
    {
      "cell_type": "code",
      "source": [
        "# Step 2 is used to read and display the image\n",
        "## Create a list to store the urls of multiple images.\n",
        "urls = [\"https://iiif.lib.ncsu.edu/iiif/0052574/full/808,/0/default.jpg\",\n",
        "        \"https://iiif.lib.ncsu.edu/iiif/0016007/full/800,/e/default.jpg\",\n",
        "        \"https://placekitten.com/800/571\"]\n",
        "## Read and display image\n",
        "## Loop on each image url, multiple images can be stored in the list\n",
        "for url in urls:\n",
        "   image = io.imread(url)                #read image\n",
        "   image = cv.resize(image, (0,0), fx=0.5, fy =0.5) \n",
        "   -3.5, \n",
        "                     image 2 cv.cvtColor(image, cv.COLOR BGR2RGB) #convert color to RGB\n",
        "\n",
        "fy-8.5) #resize Image to half size\n",
        "\n",
        "cv2.imshow(final_frame)\n",
        "\n",
        "print(\"\\n\")\n",
        "\n",
        "#concatenate Image\n",
        "\n",
        "#show Image\n",
        "\n",
        "final frame cv.hconcat((Image, image_2))"
      ],
      "metadata": {
        "id": "qjeyhvYpx9SU"
      },
      "execution_count": null,
      "outputs": []
    }
  ]
}