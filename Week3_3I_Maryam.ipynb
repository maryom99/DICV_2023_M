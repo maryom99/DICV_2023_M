{
  "nbformat": 4,
  "nbformat_minor": 0,
  "metadata": {
    "colab": {
      "provenance": [],
      "toc_visible": true,
      "authorship_tag": "ABX9TyO12QJmVAJuVKcKADIapC0x",
      "include_colab_link": true
    },
    "kernelspec": {
      "name": "python3",
      "display_name": "Python 3"
    },
    "language_info": {
      "name": "python"
    }
  },
  "cells": [
    {
      "cell_type": "markdown",
      "metadata": {
        "id": "view-in-github",
        "colab_type": "text"
      },
      "source": [
        "<a href=\"https://colab.research.google.com/github/maryom99/DICV_2023_M/blob/main/Week3_3I_Maryam.ipynb\" target=\"_parent\"><img src=\"https://colab.research.google.com/assets/colab-badge.svg\" alt=\"Open In Colab\"/></a>"
      ]
    },
    {
      "cell_type": "markdown",
      "source": [
        "# Module 3 \n",
        "## Simple Image Operations – Linear Brightness,Contrast, Inverse, Logarithmic Brightness , and Grayscale Image"
      ],
      "metadata": {
        "id": "bTGjAMWCp7eQ"
      }
    },
    {
      "cell_type": "markdown",
      "source": [
        "Name : Maryam Mohammed Ali Albaiti\n",
        "\n",
        "NIM : 2041720205\n",
        "\n",
        "No : 06\n",
        "\n",
        "Class : 3I"
      ],
      "metadata": {
        "id": "d73fOD_Qp3XK"
      }
    },
    {
      "cell_type": "markdown",
      "source": [
        "## PRACTICUM"
      ],
      "metadata": {
        "id": "_4VXmNPDqlf-"
      }
    },
    {
      "cell_type": "code",
      "execution_count": null,
      "metadata": {
        "id": "9LaM_8nupW2O"
      },
      "outputs": [],
      "source": []
    }
  ]
}