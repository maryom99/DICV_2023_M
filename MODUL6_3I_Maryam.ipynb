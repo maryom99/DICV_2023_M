{
  "nbformat": 4,
  "nbformat_minor": 0,
  "metadata": {
    "colab": {
      "provenance": [],
      "toc_visible": true,
      "authorship_tag": "ABX9TyN9S1K6DvBfLjTfY9CnXPPH",
      "include_colab_link": true
    },
    "kernelspec": {
      "name": "python3",
      "display_name": "Python 3"
    },
    "language_info": {
      "name": "python"
    }
  },
  "cells": [
    {
      "cell_type": "markdown",
      "metadata": {
        "id": "view-in-github",
        "colab_type": "text"
      },
      "source": [
        "<a href=\"https://colab.research.google.com/github/maryom99/DICV_2023_M/blob/main/MODUL6_3I_Maryam.ipynb\" target=\"_parent\"><img src=\"https://colab.research.google.com/assets/colab-badge.svg\" alt=\"Open In Colab\"/></a>"
      ]
    },
    {
      "cell_type": "markdown",
      "source": [
        "# PRACTICUM "
      ],
      "metadata": {
        "id": "oDrqTnRJxV_p"
      }
    },
    {
      "cell_type": "code",
      "execution_count": 1,
      "metadata": {
        "colab": {
          "base_uri": "https://localhost:8080/"
        },
        "id": "j0-5aWqdw3Yk",
        "outputId": "e01dd13f-43ba-4cbf-bf8c-a9cbe4fe6a2f"
      },
      "outputs": [
        {
          "output_type": "stream",
          "name": "stdout",
          "text": [
            "Mounted at /content/drive\n"
          ]
        }
      ],
      "source": [
        "#  Import the existing folder on your Drive as follows:\n",
        "from google.colab import drive\n",
        "drive.mount('/content/drive')"
      ]
    },
    {
      "cell_type": "code",
      "source": [
        "# Import the libraries.\n",
        "import cv2 as cv\n",
        "from google.colab.patches import cv2_imshow\n",
        "from skimage import io \n",
        "import matplotlib.pylab as plt\n",
        "import numpy as np\n",
        "import math\n",
        "import os\n",
        "import glob"
      ],
      "metadata": {
        "id": "YfwA0s1NyLYY"
      },
      "execution_count": 3,
      "outputs": []
    },
    {
      "cell_type": "code",
      "source": [
        "# Make an image histogram like the following histogram output based on the flowchart below : (Use image lena.jpg)\n",
        "# Input image\n",
        "image1 = cv.imread('/content/drive/MyDrive/images_DICV/lena.jpg')"
      ],
      "metadata": {
        "id": "-kEgirGYzCG3"
      },
      "execution_count": 4,
      "outputs": []
    },
    {
      "cell_type": "code",
      "source": [
        "# Counts the number of occurrences of each color pixel in all existing image pixels\n"
      ],
      "metadata": {
        "id": "UuVfUqIg0i5W"
      },
      "execution_count": null,
      "outputs": []
    }
  ]
}